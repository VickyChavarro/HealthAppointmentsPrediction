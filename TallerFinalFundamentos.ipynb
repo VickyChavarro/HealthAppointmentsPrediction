{
  "nbformat": 4,
  "nbformat_minor": 0,
  "metadata": {
    "colab": {
      "provenance": []
    },
    "kernelspec": {
      "name": "python3",
      "display_name": "Python 3"
    },
    "language_info": {
      "name": "python"
    }
  },
  "cells": [
    {
      "cell_type": "code",
      "source": [
        "import pandas as pd"
      ],
      "metadata": {
        "id": "QlF6fIRj8KJO"
      },
      "execution_count": null,
      "outputs": []
    },
    {
      "cell_type": "code",
      "execution_count": null,
      "metadata": {
        "id": "CrvBw5ND8BlQ"
      },
      "outputs": [],
      "source": [
        "file_name = \"citaschallenge(1).xlsx\"\n",
        "df = pd.read_excel(file_name)"
      ]
    },
    {
      "cell_type": "code",
      "source": [
        "df.head()"
      ],
      "metadata": {
        "colab": {
          "base_uri": "https://localhost:8080/",
          "height": 223
        },
        "id": "VKgmNlyH8OzM",
        "outputId": "0e646b30-21d0-4726-98a4-f11d6eb27638"
      },
      "execution_count": null,
      "outputs": [
        {
          "output_type": "execute_result",
          "data": {
            "text/plain": [
              "     GENERO  EDAD         ESPECIALIDAD TIPO_AFILIACION          FECHA_CITA  \\\n",
              "0  FEMENINO  41.0           ORTODONCIA            GOLD 2013-07-02 06:30:00   \n",
              "1  FEMENINO  49.0  TERAPIA OCUPACIONAL          SILVER 2013-07-02 06:30:00   \n",
              "2  FEMENINO  41.0         FISIOTERAPIA            GOLD 2013-07-02 06:30:00   \n",
              "3  FEMENINO  49.0         FISIOTERAPIA            GOLD 2013-07-02 06:50:00   \n",
              "4  FEMENINO  36.0           RADIOLOGIA            GOLD 2013-07-02 06:50:00   \n",
              "\n",
              "      id  ESTAFINAL  \n",
              "0   9373          3  \n",
              "1  62884          2  \n",
              "2  72568          2  \n",
              "3   5733          1  \n",
              "4  22397          3  "
            ],
            "text/html": [
              "\n",
              "  <div id=\"df-0ec9f10b-16ab-4d23-9313-14f0a9de60ac\" class=\"colab-df-container\">\n",
              "    <div>\n",
              "<style scoped>\n",
              "    .dataframe tbody tr th:only-of-type {\n",
              "        vertical-align: middle;\n",
              "    }\n",
              "\n",
              "    .dataframe tbody tr th {\n",
              "        vertical-align: top;\n",
              "    }\n",
              "\n",
              "    .dataframe thead th {\n",
              "        text-align: right;\n",
              "    }\n",
              "</style>\n",
              "<table border=\"1\" class=\"dataframe\">\n",
              "  <thead>\n",
              "    <tr style=\"text-align: right;\">\n",
              "      <th></th>\n",
              "      <th>GENERO</th>\n",
              "      <th>EDAD</th>\n",
              "      <th>ESPECIALIDAD</th>\n",
              "      <th>TIPO_AFILIACION</th>\n",
              "      <th>FECHA_CITA</th>\n",
              "      <th>id</th>\n",
              "      <th>ESTAFINAL</th>\n",
              "    </tr>\n",
              "  </thead>\n",
              "  <tbody>\n",
              "    <tr>\n",
              "      <th>0</th>\n",
              "      <td>FEMENINO</td>\n",
              "      <td>41.0</td>\n",
              "      <td>ORTODONCIA</td>\n",
              "      <td>GOLD</td>\n",
              "      <td>2013-07-02 06:30:00</td>\n",
              "      <td>9373</td>\n",
              "      <td>3</td>\n",
              "    </tr>\n",
              "    <tr>\n",
              "      <th>1</th>\n",
              "      <td>FEMENINO</td>\n",
              "      <td>49.0</td>\n",
              "      <td>TERAPIA OCUPACIONAL</td>\n",
              "      <td>SILVER</td>\n",
              "      <td>2013-07-02 06:30:00</td>\n",
              "      <td>62884</td>\n",
              "      <td>2</td>\n",
              "    </tr>\n",
              "    <tr>\n",
              "      <th>2</th>\n",
              "      <td>FEMENINO</td>\n",
              "      <td>41.0</td>\n",
              "      <td>FISIOTERAPIA</td>\n",
              "      <td>GOLD</td>\n",
              "      <td>2013-07-02 06:30:00</td>\n",
              "      <td>72568</td>\n",
              "      <td>2</td>\n",
              "    </tr>\n",
              "    <tr>\n",
              "      <th>3</th>\n",
              "      <td>FEMENINO</td>\n",
              "      <td>49.0</td>\n",
              "      <td>FISIOTERAPIA</td>\n",
              "      <td>GOLD</td>\n",
              "      <td>2013-07-02 06:50:00</td>\n",
              "      <td>5733</td>\n",
              "      <td>1</td>\n",
              "    </tr>\n",
              "    <tr>\n",
              "      <th>4</th>\n",
              "      <td>FEMENINO</td>\n",
              "      <td>36.0</td>\n",
              "      <td>RADIOLOGIA</td>\n",
              "      <td>GOLD</td>\n",
              "      <td>2013-07-02 06:50:00</td>\n",
              "      <td>22397</td>\n",
              "      <td>3</td>\n",
              "    </tr>\n",
              "  </tbody>\n",
              "</table>\n",
              "</div>\n",
              "    <div class=\"colab-df-buttons\">\n",
              "\n",
              "  <div class=\"colab-df-container\">\n",
              "    <button class=\"colab-df-convert\" onclick=\"convertToInteractive('df-0ec9f10b-16ab-4d23-9313-14f0a9de60ac')\"\n",
              "            title=\"Convert this dataframe to an interactive table.\"\n",
              "            style=\"display:none;\">\n",
              "\n",
              "  <svg xmlns=\"http://www.w3.org/2000/svg\" height=\"24px\" viewBox=\"0 -960 960 960\">\n",
              "    <path d=\"M120-120v-720h720v720H120Zm60-500h600v-160H180v160Zm220 220h160v-160H400v160Zm0 220h160v-160H400v160ZM180-400h160v-160H180v160Zm440 0h160v-160H620v160ZM180-180h160v-160H180v160Zm440 0h160v-160H620v160Z\"/>\n",
              "  </svg>\n",
              "    </button>\n",
              "\n",
              "  <style>\n",
              "    .colab-df-container {\n",
              "      display:flex;\n",
              "      gap: 12px;\n",
              "    }\n",
              "\n",
              "    .colab-df-convert {\n",
              "      background-color: #E8F0FE;\n",
              "      border: none;\n",
              "      border-radius: 50%;\n",
              "      cursor: pointer;\n",
              "      display: none;\n",
              "      fill: #1967D2;\n",
              "      height: 32px;\n",
              "      padding: 0 0 0 0;\n",
              "      width: 32px;\n",
              "    }\n",
              "\n",
              "    .colab-df-convert:hover {\n",
              "      background-color: #E2EBFA;\n",
              "      box-shadow: 0px 1px 2px rgba(60, 64, 67, 0.3), 0px 1px 3px 1px rgba(60, 64, 67, 0.15);\n",
              "      fill: #174EA6;\n",
              "    }\n",
              "\n",
              "    .colab-df-buttons div {\n",
              "      margin-bottom: 4px;\n",
              "    }\n",
              "\n",
              "    [theme=dark] .colab-df-convert {\n",
              "      background-color: #3B4455;\n",
              "      fill: #D2E3FC;\n",
              "    }\n",
              "\n",
              "    [theme=dark] .colab-df-convert:hover {\n",
              "      background-color: #434B5C;\n",
              "      box-shadow: 0px 1px 3px 1px rgba(0, 0, 0, 0.15);\n",
              "      filter: drop-shadow(0px 1px 2px rgba(0, 0, 0, 0.3));\n",
              "      fill: #FFFFFF;\n",
              "    }\n",
              "  </style>\n",
              "\n",
              "    <script>\n",
              "      const buttonEl =\n",
              "        document.querySelector('#df-0ec9f10b-16ab-4d23-9313-14f0a9de60ac button.colab-df-convert');\n",
              "      buttonEl.style.display =\n",
              "        google.colab.kernel.accessAllowed ? 'block' : 'none';\n",
              "\n",
              "      async function convertToInteractive(key) {\n",
              "        const element = document.querySelector('#df-0ec9f10b-16ab-4d23-9313-14f0a9de60ac');\n",
              "        const dataTable =\n",
              "          await google.colab.kernel.invokeFunction('convertToInteractive',\n",
              "                                                    [key], {});\n",
              "        if (!dataTable) return;\n",
              "\n",
              "        const docLinkHtml = 'Like what you see? Visit the ' +\n",
              "          '<a target=\"_blank\" href=https://colab.research.google.com/notebooks/data_table.ipynb>data table notebook</a>'\n",
              "          + ' to learn more about interactive tables.';\n",
              "        element.innerHTML = '';\n",
              "        dataTable['output_type'] = 'display_data';\n",
              "        await google.colab.output.renderOutput(dataTable, element);\n",
              "        const docLink = document.createElement('div');\n",
              "        docLink.innerHTML = docLinkHtml;\n",
              "        element.appendChild(docLink);\n",
              "      }\n",
              "    </script>\n",
              "  </div>\n",
              "\n",
              "\n",
              "<div id=\"df-d140bca0-4c6a-4197-a739-f01fac68f748\">\n",
              "  <button class=\"colab-df-quickchart\" onclick=\"quickchart('df-d140bca0-4c6a-4197-a739-f01fac68f748')\"\n",
              "            title=\"Suggest charts\"\n",
              "            style=\"display:none;\">\n",
              "\n",
              "<svg xmlns=\"http://www.w3.org/2000/svg\" height=\"24px\"viewBox=\"0 0 24 24\"\n",
              "     width=\"24px\">\n",
              "    <g>\n",
              "        <path d=\"M19 3H5c-1.1 0-2 .9-2 2v14c0 1.1.9 2 2 2h14c1.1 0 2-.9 2-2V5c0-1.1-.9-2-2-2zM9 17H7v-7h2v7zm4 0h-2V7h2v10zm4 0h-2v-4h2v4z\"/>\n",
              "    </g>\n",
              "</svg>\n",
              "  </button>\n",
              "\n",
              "<style>\n",
              "  .colab-df-quickchart {\n",
              "      --bg-color: #E8F0FE;\n",
              "      --fill-color: #1967D2;\n",
              "      --hover-bg-color: #E2EBFA;\n",
              "      --hover-fill-color: #174EA6;\n",
              "      --disabled-fill-color: #AAA;\n",
              "      --disabled-bg-color: #DDD;\n",
              "  }\n",
              "\n",
              "  [theme=dark] .colab-df-quickchart {\n",
              "      --bg-color: #3B4455;\n",
              "      --fill-color: #D2E3FC;\n",
              "      --hover-bg-color: #434B5C;\n",
              "      --hover-fill-color: #FFFFFF;\n",
              "      --disabled-bg-color: #3B4455;\n",
              "      --disabled-fill-color: #666;\n",
              "  }\n",
              "\n",
              "  .colab-df-quickchart {\n",
              "    background-color: var(--bg-color);\n",
              "    border: none;\n",
              "    border-radius: 50%;\n",
              "    cursor: pointer;\n",
              "    display: none;\n",
              "    fill: var(--fill-color);\n",
              "    height: 32px;\n",
              "    padding: 0;\n",
              "    width: 32px;\n",
              "  }\n",
              "\n",
              "  .colab-df-quickchart:hover {\n",
              "    background-color: var(--hover-bg-color);\n",
              "    box-shadow: 0 1px 2px rgba(60, 64, 67, 0.3), 0 1px 3px 1px rgba(60, 64, 67, 0.15);\n",
              "    fill: var(--button-hover-fill-color);\n",
              "  }\n",
              "\n",
              "  .colab-df-quickchart-complete:disabled,\n",
              "  .colab-df-quickchart-complete:disabled:hover {\n",
              "    background-color: var(--disabled-bg-color);\n",
              "    fill: var(--disabled-fill-color);\n",
              "    box-shadow: none;\n",
              "  }\n",
              "\n",
              "  .colab-df-spinner {\n",
              "    border: 2px solid var(--fill-color);\n",
              "    border-color: transparent;\n",
              "    border-bottom-color: var(--fill-color);\n",
              "    animation:\n",
              "      spin 1s steps(1) infinite;\n",
              "  }\n",
              "\n",
              "  @keyframes spin {\n",
              "    0% {\n",
              "      border-color: transparent;\n",
              "      border-bottom-color: var(--fill-color);\n",
              "      border-left-color: var(--fill-color);\n",
              "    }\n",
              "    20% {\n",
              "      border-color: transparent;\n",
              "      border-left-color: var(--fill-color);\n",
              "      border-top-color: var(--fill-color);\n",
              "    }\n",
              "    30% {\n",
              "      border-color: transparent;\n",
              "      border-left-color: var(--fill-color);\n",
              "      border-top-color: var(--fill-color);\n",
              "      border-right-color: var(--fill-color);\n",
              "    }\n",
              "    40% {\n",
              "      border-color: transparent;\n",
              "      border-right-color: var(--fill-color);\n",
              "      border-top-color: var(--fill-color);\n",
              "    }\n",
              "    60% {\n",
              "      border-color: transparent;\n",
              "      border-right-color: var(--fill-color);\n",
              "    }\n",
              "    80% {\n",
              "      border-color: transparent;\n",
              "      border-right-color: var(--fill-color);\n",
              "      border-bottom-color: var(--fill-color);\n",
              "    }\n",
              "    90% {\n",
              "      border-color: transparent;\n",
              "      border-bottom-color: var(--fill-color);\n",
              "    }\n",
              "  }\n",
              "</style>\n",
              "\n",
              "  <script>\n",
              "    async function quickchart(key) {\n",
              "      const quickchartButtonEl =\n",
              "        document.querySelector('#' + key + ' button');\n",
              "      quickchartButtonEl.disabled = true;  // To prevent multiple clicks.\n",
              "      quickchartButtonEl.classList.add('colab-df-spinner');\n",
              "      try {\n",
              "        const charts = await google.colab.kernel.invokeFunction(\n",
              "            'suggestCharts', [key], {});\n",
              "      } catch (error) {\n",
              "        console.error('Error during call to suggestCharts:', error);\n",
              "      }\n",
              "      quickchartButtonEl.classList.remove('colab-df-spinner');\n",
              "      quickchartButtonEl.classList.add('colab-df-quickchart-complete');\n",
              "    }\n",
              "    (() => {\n",
              "      let quickchartButtonEl =\n",
              "        document.querySelector('#df-d140bca0-4c6a-4197-a739-f01fac68f748 button');\n",
              "      quickchartButtonEl.style.display =\n",
              "        google.colab.kernel.accessAllowed ? 'block' : 'none';\n",
              "    })();\n",
              "  </script>\n",
              "</div>\n",
              "\n",
              "    </div>\n",
              "  </div>\n"
            ],
            "application/vnd.google.colaboratory.intrinsic+json": {
              "type": "dataframe",
              "variable_name": "df",
              "summary": "{\n  \"name\": \"df\",\n  \"rows\": 67650,\n  \"fields\": [\n    {\n      \"column\": \"GENERO\",\n      \"properties\": {\n        \"dtype\": \"category\",\n        \"num_unique_values\": 2,\n        \"samples\": [\n          \"MASCULINO\",\n          \"FEMENINO\"\n        ],\n        \"semantic_type\": \"\",\n        \"description\": \"\"\n      }\n    },\n    {\n      \"column\": \"EDAD\",\n      \"properties\": {\n        \"dtype\": \"number\",\n        \"std\": 14.525065969733339,\n        \"min\": 0.0,\n        \"max\": 96.0,\n        \"num_unique_values\": 95,\n        \"samples\": [\n          2.0,\n          13.0\n        ],\n        \"semantic_type\": \"\",\n        \"description\": \"\"\n      }\n    },\n    {\n      \"column\": \"ESPECIALIDAD\",\n      \"properties\": {\n        \"dtype\": \"category\",\n        \"num_unique_values\": 32,\n        \"samples\": [\n          \"GINECOLOGIA Y OBSTETRICIA\",\n          \"ORTOPEDIA Y TRAUMATOLOGIA\"\n        ],\n        \"semantic_type\": \"\",\n        \"description\": \"\"\n      }\n    },\n    {\n      \"column\": \"TIPO_AFILIACION\",\n      \"properties\": {\n        \"dtype\": \"category\",\n        \"num_unique_values\": 3,\n        \"samples\": [\n          \"GOLD\",\n          \"SILVER\"\n        ],\n        \"semantic_type\": \"\",\n        \"description\": \"\"\n      }\n    },\n    {\n      \"column\": \"FECHA_CITA\",\n      \"properties\": {\n        \"dtype\": \"date\",\n        \"min\": \"2013-07-02 06:30:00\",\n        \"max\": \"2013-11-21 18:40:00\",\n        \"num_unique_values\": 12032,\n        \"samples\": [\n          \"2013-08-23 08:15:00\",\n          \"2013-11-01 10:55:00\"\n        ],\n        \"semantic_type\": \"\",\n        \"description\": \"\"\n      }\n    },\n    {\n      \"column\": \"id\",\n      \"properties\": {\n        \"dtype\": \"number\",\n        \"std\": 25295,\n        \"min\": 1,\n        \"max\": 87877,\n        \"num_unique_values\": 67650,\n        \"samples\": [\n          60577,\n          70352\n        ],\n        \"semantic_type\": \"\",\n        \"description\": \"\"\n      }\n    },\n    {\n      \"column\": \"ESTAFINAL\",\n      \"properties\": {\n        \"dtype\": \"number\",\n        \"std\": 0,\n        \"min\": 1,\n        \"max\": 3,\n        \"num_unique_values\": 3,\n        \"samples\": [\n          3,\n          2\n        ],\n        \"semantic_type\": \"\",\n        \"description\": \"\"\n      }\n    }\n  ]\n}"
            }
          },
          "metadata": {},
          "execution_count": 35
        }
      ]
    },
    {
      "cell_type": "code",
      "source": [
        "# Encontrar el número de valores nulos por cada columna\n",
        "nulos_por_columna = df.isnull().sum()\n",
        "\n",
        "# Mostrar los valores nulos por columna\n",
        "print(\"\\nNúmero de valores nulos por columna:\")\n",
        "print(nulos_por_columna)"
      ],
      "metadata": {
        "colab": {
          "base_uri": "https://localhost:8080/"
        },
        "id": "xuQZlvx48VEA",
        "outputId": "794ede50-e0ae-4cbe-d66c-dd89778d7603"
      },
      "execution_count": null,
      "outputs": [
        {
          "output_type": "stream",
          "name": "stdout",
          "text": [
            "\n",
            "Número de valores nulos por columna:\n",
            "GENERO             0\n",
            "EDAD               0\n",
            "ESPECIALIDAD       0\n",
            "TIPO_AFILIACION    0\n",
            "FECHA_CITA         0\n",
            "id                 0\n",
            "ESTAFINAL          0\n",
            "dtype: int64\n"
          ]
        }
      ]
    },
    {
      "cell_type": "code",
      "source": [
        "df.dtypes"
      ],
      "metadata": {
        "colab": {
          "base_uri": "https://localhost:8080/"
        },
        "id": "_j4eYNMH8euA",
        "outputId": "76efa67c-081a-4c9c-ff0e-bead8351294c"
      },
      "execution_count": null,
      "outputs": [
        {
          "output_type": "execute_result",
          "data": {
            "text/plain": [
              "GENERO                     object\n",
              "EDAD                      float64\n",
              "ESPECIALIDAD               object\n",
              "TIPO_AFILIACION            object\n",
              "FECHA_CITA         datetime64[ns]\n",
              "id                          int64\n",
              "ESTAFINAL                   int64\n",
              "dtype: object"
            ]
          },
          "metadata": {},
          "execution_count": 37
        }
      ]
    },
    {
      "cell_type": "markdown",
      "source": [
        "# Modificaciones dataset para modelamiento"
      ],
      "metadata": {
        "id": "wrBq-30nKM8e"
      }
    },
    {
      "cell_type": "code",
      "source": [
        "# Convertir la columna FECHA_CITA a formato datetime\n",
        "df['FECHA_CITA'] = pd.to_datetime(df['FECHA_CITA'])\n",
        "\n",
        "# Crear características adicionales basadas en la fecha\n",
        "df['DIA_SEMANA'] = df['FECHA_CITA'].dt.dayofweek  # Día de la semana (0=Monday, 6=Sunday)\n",
        "df['HORA_CITA'] = df['FECHA_CITA'].dt.hour        # Hora del día\n",
        "\n",
        "# Mostrar las primeras filas del dataframe para verificar\n",
        "print(\"Primeras filas del dataframe con nuevas características:\")\n",
        "print(df.head())"
      ],
      "metadata": {
        "colab": {
          "base_uri": "https://localhost:8080/"
        },
        "id": "bK92bFch9eM3",
        "outputId": "b113b9ef-8996-48a3-8602-df7cbe713e26"
      },
      "execution_count": null,
      "outputs": [
        {
          "output_type": "stream",
          "name": "stdout",
          "text": [
            "Primeras filas del dataframe con nuevas características:\n",
            "     GENERO  EDAD         ESPECIALIDAD TIPO_AFILIACION          FECHA_CITA  \\\n",
            "0  FEMENINO  41.0           ORTODONCIA            GOLD 2013-07-02 06:30:00   \n",
            "1  FEMENINO  49.0  TERAPIA OCUPACIONAL          SILVER 2013-07-02 06:30:00   \n",
            "2  FEMENINO  41.0         FISIOTERAPIA            GOLD 2013-07-02 06:30:00   \n",
            "3  FEMENINO  49.0         FISIOTERAPIA            GOLD 2013-07-02 06:50:00   \n",
            "4  FEMENINO  36.0           RADIOLOGIA            GOLD 2013-07-02 06:50:00   \n",
            "\n",
            "      id  ESTAFINAL  DIA_SEMANA  HORA_CITA  \n",
            "0   9373          3           1          6  \n",
            "1  62884          2           1          6  \n",
            "2  72568          2           1          6  \n",
            "3   5733          1           1          6  \n",
            "4  22397          3           1          6  \n"
          ]
        }
      ]
    },
    {
      "cell_type": "code",
      "source": [
        "# Codificación de variables categóricas usando pd.get_dummies()\n",
        "df = pd.get_dummies(df, columns=['GENERO', 'ESPECIALIDAD', 'TIPO_AFILIACION'], drop_first=True)\n",
        "\n",
        "# Mostrar las primeras filas del dataframe para verificar\n",
        "print(\"Primeras filas del dataframe con variables categóricas codificadas:\")\n",
        "print(df.head())\n",
        "\n",
        "# Explicación:\n",
        "# 1. Utilizamos `pd.get_dummies()` para convertir las variables categóricas en variables dummy (indicadoras). Esto es necesario porque los modelos de aprendizaje automático requieren que todas las entradas sean numéricas.\n",
        "# 2. La opción `drop_first=True` se utiliza para evitar la multicolinealidad eliminando una de las categorías (la primera) en cada variable categórica."
      ],
      "metadata": {
        "colab": {
          "base_uri": "https://localhost:8080/"
        },
        "id": "0bI90ncU9hPb",
        "outputId": "2659c0f4-fbdc-4f8b-d540-b2c8a805cfcf"
      },
      "execution_count": null,
      "outputs": [
        {
          "output_type": "stream",
          "name": "stdout",
          "text": [
            "Primeras filas del dataframe con variables categóricas codificadas:\n",
            "   EDAD          FECHA_CITA     id  ESTAFINAL  DIA_SEMANA  HORA_CITA  \\\n",
            "0  41.0 2013-07-02 06:30:00   9373          3           1          6   \n",
            "1  49.0 2013-07-02 06:30:00  62884          2           1          6   \n",
            "2  41.0 2013-07-02 06:30:00  72568          2           1          6   \n",
            "3  49.0 2013-07-02 06:50:00   5733          1           1          6   \n",
            "4  36.0 2013-07-02 06:50:00  22397          3           1          6   \n",
            "\n",
            "   GENERO_MASCULINO  ESPECIALIDAD_CARDIOLOGIA  \\\n",
            "0             False                     False   \n",
            "1             False                     False   \n",
            "2             False                     False   \n",
            "3             False                     False   \n",
            "4             False                     False   \n",
            "\n",
            "   ESPECIALIDAD_CIRUGIA DE LA MANO  ESPECIALIDAD_CIRUGIA GENERAL  ...  \\\n",
            "0                            False                         False  ...   \n",
            "1                            False                         False  ...   \n",
            "2                            False                         False  ...   \n",
            "3                            False                         False  ...   \n",
            "4                            False                         False  ...   \n",
            "\n",
            "   ESPECIALIDAD_PEDIATRIA  ESPECIALIDAD_PERIODONCIA  ESPECIALIDAD_PSICOLOGIA  \\\n",
            "0                   False                     False                    False   \n",
            "1                   False                     False                    False   \n",
            "2                   False                     False                    False   \n",
            "3                   False                     False                    False   \n",
            "4                   False                     False                    False   \n",
            "\n",
            "   ESPECIALIDAD_PSIQUIATRIA  ESPECIALIDAD_RADIOLOGIA  \\\n",
            "0                     False                    False   \n",
            "1                     False                    False   \n",
            "2                     False                    False   \n",
            "3                     False                    False   \n",
            "4                     False                     True   \n",
            "\n",
            "   ESPECIALIDAD_REHABILITACION ORAL  ESPECIALIDAD_TERAPIA OCUPACIONAL  \\\n",
            "0                             False                             False   \n",
            "1                             False                              True   \n",
            "2                             False                             False   \n",
            "3                             False                             False   \n",
            "4                             False                             False   \n",
            "\n",
            "   ESPECIALIDAD_UROLOGIA  TIPO_AFILIACION_GOLD  TIPO_AFILIACION_SILVER  \n",
            "0                  False                  True                   False  \n",
            "1                  False                 False                    True  \n",
            "2                  False                  True                   False  \n",
            "3                  False                  True                   False  \n",
            "4                  False                  True                   False  \n",
            "\n",
            "[5 rows x 40 columns]\n"
          ]
        }
      ]
    },
    {
      "cell_type": "markdown",
      "source": [
        "# Division train-test"
      ],
      "metadata": {
        "id": "GQ3qk_I9KVVi"
      }
    },
    {
      "cell_type": "code",
      "source": [
        "# Seleccionar características y etiqueta\n",
        "X = df.drop(columns=['id', 'FECHA_CITA', 'ESTAFINAL'])\n",
        "y = df['ESTAFINAL']\n",
        "\n",
        "# Dividir el conjunto de datos en entrenamiento y prueba\n",
        "from sklearn.model_selection import train_test_split\n",
        "X_train, X_test, y_train, y_test = train_test_split(X, y, test_size=0.2, random_state=42)\n",
        "\n",
        "# Mostrar las dimensiones de los conjuntos de entrenamiento y prueba\n",
        "print(f\"Dimensiones de X_train: {X_train.shape}\")\n",
        "print(f\"Dimensiones de X_test: {X_test.shape}\")\n",
        "print(f\"Dimensiones de y_train: {y_train.shape}\")\n",
        "print(f\"Dimensiones de y_test: {y_test.shape}\")\n",
        "\n",
        "# Explicación:\n",
        "# 1. Eliminamos las columnas 'ID' y 'FECHA_CITA' porque no son relevantes para la predicción del estado final de las citas.\n",
        "# 2. La columna 'ESTAFINAL' es nuestra etiqueta objetivo, por lo que la separamos del resto del dataframe.\n",
        "# 3. Dividimos el conjunto de datos en conjuntos de entrenamiento y prueba utilizando `train_test_split()` con una proporción de 80-20. El parámetro `random_state` asegura que la división sea reproducible."
      ],
      "metadata": {
        "colab": {
          "base_uri": "https://localhost:8080/"
        },
        "id": "b9q-CZCp-V3l",
        "outputId": "86f8decc-9090-4eaa-a48d-8d4f79e82dd3"
      },
      "execution_count": null,
      "outputs": [
        {
          "output_type": "stream",
          "name": "stdout",
          "text": [
            "Dimensiones de X_train: (54120, 37)\n",
            "Dimensiones de X_test: (13530, 37)\n",
            "Dimensiones de y_train: (54120,)\n",
            "Dimensiones de y_test: (13530,)\n"
          ]
        }
      ]
    },
    {
      "cell_type": "markdown",
      "source": [
        "# Modelo No balanceados"
      ],
      "metadata": {
        "id": "ZSjbzV-wEVZk"
      }
    },
    {
      "cell_type": "code",
      "source": [
        "# Función para calcular el F score ponderado\n",
        "def calcular_f_ponderado(y_true, y_pred):\n",
        "    f1_incomplida = f1_score(y_true, y_pred, labels=[3], average='macro')\n",
        "    f1_cancelada = f1_score(y_true, y_pred, labels=[1], average='macro')\n",
        "    f1_cumplida = f1_score(y_true, y_pred, labels=[2], average='macro')\n",
        "\n",
        "    f_ponderado = 0.5 * f1_incomplida + 0.3 * f1_cancelada + 0.2 * f1_cumplida\n",
        "    return f_ponderado"
      ],
      "metadata": {
        "id": "BhHTjfbKDYGk"
      },
      "execution_count": null,
      "outputs": []
    },
    {
      "cell_type": "code",
      "source": [
        "# Importar las librerías necesarias\n",
        "from sklearn.linear_model import LogisticRegression\n",
        "from sklearn.ensemble import RandomForestClassifier\n",
        "import xgboost as xgb\n",
        "from sklearn.svm import SVC\n",
        "from sklearn.neighbors import KNeighborsClassifier\n",
        "from sklearn.metrics import classification_report, f1_score"
      ],
      "metadata": {
        "id": "zpk-4TAADlWc"
      },
      "execution_count": null,
      "outputs": []
    },
    {
      "cell_type": "code",
      "source": [
        "# Ajustar las clases para que comiencen en 0\n",
        "y_train_adjusted = y_train - 1\n",
        "y_test_adjusted = y_test - 1\n",
        "\n",
        "# Inicializar los modelos\n",
        "models = {\n",
        "    'Logistic Regression': LogisticRegression(max_iter=1000),\n",
        "    'Random Forest': RandomForestClassifier(n_estimators=100),\n",
        "    'XGBoost': xgb.XGBClassifier(eval_metric='mlogloss'),\n",
        "    'KNN': KNeighborsClassifier()\n",
        "}\n",
        "\n",
        "# Función para calcular el F score ponderado\n",
        "def calcular_f_ponderado(y_true, y_pred):\n",
        "    f1_incomplida = f1_score(y_true, y_pred, labels=[3], average='macro')\n",
        "    f1_cancelada = f1_score(y_true, y_pred, labels=[1], average='macro')\n",
        "    f1_cumplida = f1_score(y_true, y_pred, labels=[2], average='macro')\n",
        "\n",
        "    f_ponderado = 0.5 * f1_incomplida + 0.3 * f1_cancelada + 0.2 * f1_cumplida\n",
        "    return f_ponderado\n",
        "\n",
        "# Inicializar y entrenar los modelos nuevamente\n",
        "results = {}\n",
        "for model_name, model in models.items():\n",
        "    if model_name == 'XGBoost':\n",
        "        model.fit(X_train, y_train_adjusted)\n",
        "        y_pred = model.predict(X_test)\n",
        "        y_pred = y_pred + 1  # Ajustar las predicciones de vuelta a las clases originales\n",
        "    else:\n",
        "        model.fit(X_train, y_train)\n",
        "        y_pred = model.predict(X_test)\n",
        "\n",
        "    f_ponderado = calcular_f_ponderado(y_test, y_pred)\n",
        "    report = classification_report(y_test, y_pred, output_dict=True)\n",
        "\n",
        "    results[model_name] = {\n",
        "        'f_ponderado': f_ponderado,\n",
        "        'classification_report': report\n",
        "    }\n",
        "\n",
        "    print(f\"Results for {model_name}:\")\n",
        "    print(f\"Pondered F Score: {f_ponderado}\")\n",
        "    print(classification_report(y_test, y_pred))\n",
        "    print(\"-\" * 60)\n",
        "\n",
        "# Explicación:\n",
        "# 1. Definimos la función `calcular_f_ponderado` que calcula los F scores individuales para cada clase y combina estos resultados de acuerdo al peso proporcionado en las instrucciones.\n",
        "# 2. Entrenamos y evaluamos cada modelo nuevamente, ahora calculando y mostrando el F score ponderado para cada uno."
      ],
      "metadata": {
        "colab": {
          "base_uri": "https://localhost:8080/"
        },
        "id": "jmXuNJQFGGgR",
        "outputId": "63d81651-b73a-43a1-b116-fe46fb2806e3"
      },
      "execution_count": null,
      "outputs": [
        {
          "output_type": "stream",
          "name": "stderr",
          "text": [
            "/usr/local/lib/python3.10/dist-packages/sklearn/linear_model/_logistic.py:458: ConvergenceWarning: lbfgs failed to converge (status=1):\n",
            "STOP: TOTAL NO. of ITERATIONS REACHED LIMIT.\n",
            "\n",
            "Increase the number of iterations (max_iter) or scale the data as shown in:\n",
            "    https://scikit-learn.org/stable/modules/preprocessing.html\n",
            "Please also refer to the documentation for alternative solver options:\n",
            "    https://scikit-learn.org/stable/modules/linear_model.html#logistic-regression\n",
            "  n_iter_i = _check_optimize_result(\n"
          ]
        },
        {
          "output_type": "stream",
          "name": "stdout",
          "text": [
            "Results for Logistic Regression:\n",
            "Pondered F Score: 0.2614301357898002\n",
            "              precision    recall  f1-score   support\n",
            "\n",
            "           1       0.67      0.00      0.00      2452\n",
            "           2       0.66      0.98      0.79      8595\n",
            "           3       0.50      0.13      0.21      2483\n",
            "\n",
            "    accuracy                           0.65     13530\n",
            "   macro avg       0.61      0.37      0.33     13530\n",
            "weighted avg       0.63      0.65      0.54     13530\n",
            "\n",
            "------------------------------------------------------------\n",
            "Results for Random Forest:\n",
            "Pondered F Score: 0.3760740908146947\n",
            "              precision    recall  f1-score   support\n",
            "\n",
            "           1       0.28      0.19      0.22      2452\n",
            "           2       0.70      0.81      0.75      8595\n",
            "           3       0.36      0.28      0.32      2483\n",
            "\n",
            "    accuracy                           0.60     13530\n",
            "   macro avg       0.45      0.43      0.43     13530\n",
            "weighted avg       0.56      0.60      0.57     13530\n",
            "\n",
            "------------------------------------------------------------\n",
            "Results for XGBoost:\n",
            "Pondered F Score: 0.31842330964943444\n",
            "              precision    recall  f1-score   support\n",
            "\n",
            "           1       0.41      0.04      0.08      2452\n",
            "           2       0.67      0.97      0.79      8595\n",
            "           3       0.56      0.18      0.27      2483\n",
            "\n",
            "    accuracy                           0.66     13530\n",
            "   macro avg       0.55      0.40      0.38     13530\n",
            "weighted avg       0.60      0.66      0.57     13530\n",
            "\n",
            "------------------------------------------------------------\n",
            "Results for KNN:\n",
            "Pondered F Score: 0.3547031702936301\n",
            "              precision    recall  f1-score   support\n",
            "\n",
            "           1       0.27      0.22      0.24      2452\n",
            "           2       0.69      0.84      0.75      8595\n",
            "           3       0.43      0.19      0.26      2483\n",
            "\n",
            "    accuracy                           0.61     13530\n",
            "   macro avg       0.46      0.41      0.42     13530\n",
            "weighted avg       0.57      0.61      0.57     13530\n",
            "\n",
            "------------------------------------------------------------\n"
          ]
        }
      ]
    },
    {
      "cell_type": "markdown",
      "source": [
        "#  Modelos con clases balanceadas"
      ],
      "metadata": {
        "id": "IF-VQEEGEZLZ"
      }
    },
    {
      "cell_type": "code",
      "source": [
        "from imblearn.over_sampling import SMOTE\n",
        "from collections import Counter\n",
        "\n",
        "# Aplicar SMOTE al conjunto de entrenamiento\n",
        "smote = SMOTE(random_state=42)\n",
        "X_train_res, y_train_res = smote.fit_resample(X_train, y_train)\n",
        "\n",
        "# Mostrar la distribución de clases antes y después del rebalanceo\n",
        "print(\"Distribución de clases antes del rebalanceo:\", Counter(y_train))\n",
        "print(\"Distribución de clases después del rebalanceo:\", Counter(y_train_res))\n",
        "\n",
        "# Explicación:\n",
        "# 1. Usamos SMOTE para crear ejemplos sintéticos de las clases minoritarias.\n",
        "# 2. Aplicamos SMOTE al conjunto de entrenamiento para rebalancear las clases.\n",
        "# 3. Mostramos la distribución de clases antes y después del rebalanceo para verificar el efecto."
      ],
      "metadata": {
        "colab": {
          "base_uri": "https://localhost:8080/"
        },
        "id": "1KEeo_-NDqZY",
        "outputId": "0fb96622-b66f-4ad1-b651-aa9da0b1bd50"
      },
      "execution_count": null,
      "outputs": [
        {
          "output_type": "stream",
          "name": "stdout",
          "text": [
            "Distribución de clases antes del rebalanceo: Counter({2: 34430, 3: 10172, 1: 9518})\n",
            "Distribución de clases después del rebalanceo: Counter({1: 34430, 2: 34430, 3: 34430})\n"
          ]
        }
      ]
    },
    {
      "cell_type": "code",
      "source": [
        "# Inicializar los modelos\n",
        "models = {\n",
        "    'Logistic Regression': LogisticRegression(max_iter=1000),\n",
        "    'Random Forest': RandomForestClassifier(n_estimators=100),\n",
        "    'XGBoost': xgb.XGBClassifier(eval_metric='mlogloss', use_label_encoder=False),\n",
        "    'SVM': KNeighborsClassifier()\n",
        "}\n",
        "\n",
        "# Entrenar y evaluar cada modelo con datos rebalanceados\n",
        "results = {}\n",
        "for model_name, model in models.items():\n",
        "    if model_name == 'XGBoost':\n",
        "        model.fit(X_train_res, y_train_res - 1)\n",
        "        y_pred = model.predict(X_test)\n",
        "        y_pred = y_pred + 1  # Ajustar las predicciones de vuelta a las clases originales\n",
        "    else:\n",
        "        model.fit(X_train_res, y_train_res)\n",
        "        y_pred = model.predict(X_test)\n",
        "\n",
        "    f_ponderado = calcular_f_ponderado(y_test, y_pred)\n",
        "    report = classification_report(y_test, y_pred, output_dict=True)\n",
        "\n",
        "    results[model_name] = {\n",
        "        'f_ponderado': f_ponderado,\n",
        "        'classification_report': report\n",
        "    }\n",
        "\n",
        "    print(f\"Results for {model_name}:\")\n",
        "    print(f\"Pondered F Score: {f_ponderado}\")\n",
        "    print(classification_report(y_test, y_pred))\n",
        "    print(\"-\" * 60)"
      ],
      "metadata": {
        "colab": {
          "base_uri": "https://localhost:8080/"
        },
        "id": "SyeygvFvDulC",
        "outputId": "a20f01d9-944c-4b23-f2da-bb617721dfb3"
      },
      "execution_count": null,
      "outputs": [
        {
          "output_type": "stream",
          "name": "stderr",
          "text": [
            "/usr/local/lib/python3.10/dist-packages/sklearn/linear_model/_logistic.py:458: ConvergenceWarning: lbfgs failed to converge (status=1):\n",
            "STOP: TOTAL NO. of ITERATIONS REACHED LIMIT.\n",
            "\n",
            "Increase the number of iterations (max_iter) or scale the data as shown in:\n",
            "    https://scikit-learn.org/stable/modules/preprocessing.html\n",
            "Please also refer to the documentation for alternative solver options:\n",
            "    https://scikit-learn.org/stable/modules/linear_model.html#logistic-regression\n",
            "  n_iter_i = _check_optimize_result(\n"
          ]
        },
        {
          "output_type": "stream",
          "name": "stdout",
          "text": [
            "Results for Logistic Regression:\n",
            "Pondered F Score: 0.37301908056199085\n",
            "              precision    recall  f1-score   support\n",
            "\n",
            "           1       0.26      0.15      0.19      2452\n",
            "           2       0.71      0.78      0.74      8595\n",
            "           3       0.32      0.35      0.34      2483\n",
            "\n",
            "    accuracy                           0.59     13530\n",
            "   macro avg       0.43      0.43      0.42     13530\n",
            "weighted avg       0.56      0.59      0.57     13530\n",
            "\n",
            "------------------------------------------------------------\n",
            "Results for Random Forest:\n",
            "Pondered F Score: 0.3867132917451759\n",
            "              precision    recall  f1-score   support\n",
            "\n",
            "           1       0.25      0.29      0.27      2452\n",
            "           2       0.71      0.66      0.68      8595\n",
            "           3       0.32      0.36      0.34      2483\n",
            "\n",
            "    accuracy                           0.54     13530\n",
            "   macro avg       0.43      0.43      0.43     13530\n",
            "weighted avg       0.56      0.54      0.54     13530\n",
            "\n",
            "------------------------------------------------------------\n",
            "Results for XGBoost:\n",
            "Pondered F Score: 0.4079281721392995\n",
            "              precision    recall  f1-score   support\n",
            "\n",
            "           1       0.26      0.30      0.28      2452\n",
            "           2       0.73      0.68      0.70      8595\n",
            "           3       0.36      0.38      0.37      2483\n",
            "\n",
            "    accuracy                           0.56     13530\n",
            "   macro avg       0.45      0.45      0.45     13530\n",
            "weighted avg       0.57      0.56      0.57     13530\n",
            "\n",
            "------------------------------------------------------------\n",
            "Results for SVM:\n",
            "Pondered F Score: 0.37306322833481653\n",
            "              precision    recall  f1-score   support\n",
            "\n",
            "           1       0.25      0.29      0.27      2452\n",
            "           2       0.71      0.69      0.70      8595\n",
            "           3       0.33      0.28      0.31      2483\n",
            "\n",
            "    accuracy                           0.55     13530\n",
            "   macro avg       0.43      0.42      0.42     13530\n",
            "weighted avg       0.55      0.55      0.55     13530\n",
            "\n",
            "------------------------------------------------------------\n"
          ]
        }
      ]
    },
    {
      "cell_type": "code",
      "source": [
        "from sklearn.ensemble import BaggingClassifier\n",
        "from sklearn.tree import DecisionTreeClassifier\n",
        "\n",
        "# Inicializar el modelo base (Árbol de Decisión)\n",
        "base_model = DecisionTreeClassifier()\n",
        "\n",
        "# Inicializar el modelo Bagging\n",
        "bagging_model = BaggingClassifier(base_estimator=base_model, n_estimators=100, random_state=42)\n",
        "\n",
        "# Entrenar el modelo con los datos rebalanceados\n",
        "bagging_model.fit(X_train_res, y_train_res)\n",
        "\n",
        "# Evaluar el modelo\n",
        "y_pred_bagging = bagging_model.predict(X_test)\n",
        "f_ponderado_bagging = calcular_f_ponderado(y_test, y_pred_bagging)\n",
        "\n",
        "print(f\"F Score ponderado para Bagging con Árboles de Decisión: {f_ponderado_bagging}\")\n",
        "print(classification_report(y_test, y_pred_bagging))\n",
        "\n",
        "# Explicación:\n",
        "# 1. Inicializamos un `DecisionTreeClassifier` como el modelo base.\n",
        "# 2. Utilizamos `BaggingClassifier` para crear un ensemble de árboles de decisión.\n",
        "# 3. Entrenamos el modelo Bagging con los datos rebalanceados.\n",
        "# 4. Evaluamos el modelo y calculamos el F score ponderado."
      ],
      "metadata": {
        "colab": {
          "base_uri": "https://localhost:8080/"
        },
        "id": "sKu6wMJwNjVj",
        "outputId": "bc7d9c4b-5ef0-4d78-ebe6-16894efd24d3"
      },
      "execution_count": null,
      "outputs": [
        {
          "output_type": "stream",
          "name": "stderr",
          "text": [
            "/usr/local/lib/python3.10/dist-packages/sklearn/ensemble/_base.py:166: FutureWarning: `base_estimator` was renamed to `estimator` in version 1.2 and will be removed in 1.4.\n",
            "  warnings.warn(\n"
          ]
        },
        {
          "output_type": "stream",
          "name": "stdout",
          "text": [
            "F Score ponderado para Bagging con Árboles de Decisión: 0.3874031961405734\n",
            "              precision    recall  f1-score   support\n",
            "\n",
            "           1       0.25      0.28      0.27      2452\n",
            "           2       0.71      0.66      0.68      8595\n",
            "           3       0.33      0.36      0.34      2483\n",
            "\n",
            "    accuracy                           0.54     13530\n",
            "   macro avg       0.43      0.43      0.43     13530\n",
            "weighted avg       0.56      0.54      0.55     13530\n",
            "\n"
          ]
        }
      ]
    },
    {
      "cell_type": "markdown",
      "source": [
        "# Salida de Excel"
      ],
      "metadata": {
        "id": "EIPISrmNLEcN"
      }
    },
    {
      "cell_type": "code",
      "source": [
        "# Obtener las predicciones finales (aquí asumimos que el mejor modelo es Random Forest, pero puedes cambiarlo según tu preferencia)\n",
        "best_model = models['Random Forest']\n",
        "best_model.fit(X_train, y_train)\n",
        "y_pred_final = best_model.predict(X_test)\n",
        "\n",
        "# Crear un DataFrame con los IDs y las predicciones\n",
        "df_test = X_test.copy()\n",
        "df_test['ID'] = df.loc[X_test.index, 'id']\n",
        "df_test['ESTAFINAL'] = y_pred_final\n",
        "\n",
        "# Crear el DataFrame con las columnas requeridas\n",
        "df_result = df_test[['ID', 'ESTAFINAL']]\n",
        "\n",
        "# Guardar el DataFrame en un archivo Excel\n",
        "output_file = 'predicciones_citas.xlsx'\n",
        "df_result.to_excel(output_file, index=False)"
      ],
      "metadata": {
        "id": "kJab8f1HLG7M"
      },
      "execution_count": null,
      "outputs": []
    }
  ]
}